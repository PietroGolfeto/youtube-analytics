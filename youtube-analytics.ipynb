{
 "cells": [
  {
   "cell_type": "code",
   "execution_count": null,
   "metadata": {},
   "outputs": [],
   "source": [
    "import os\n",
    "from dotenv import load_dotenv\n",
    "import pandas as pd\n",
    "from googleapiclient.discovery import build\n",
    "from googleapiclient.errors import HttpError"
   ]
  },
  {
   "cell_type": "code",
   "execution_count": null,
   "metadata": {},
   "outputs": [],
   "source": [
    "def get_channel_ids(youtube, channel_names):\n",
    "    \"\"\"\n",
    "    Retrieve channel IDs for the given channel names.\n",
    "    \"\"\"\n",
    "    channel_ids = []\n",
    "    for name in channel_names:\n",
    "        try:\n",
    "            request = youtube.search().list(\n",
    "                part='snippet',\n",
    "                q=name,\n",
    "                type='channel',\n",
    "                maxResults=1\n",
    "            )\n",
    "            response = request.execute()\n",
    "            channel_id = response['items'][0]['id']['channelId']\n",
    "            channel_ids.append(channel_id)\n",
    "        except (IndexError, HttpError) as e:\n",
    "            print(f\"Error retrieving channel ID for {name}: {e}\")\n",
    "    return channel_ids"
   ]
  },
  {
   "cell_type": "code",
   "execution_count": null,
   "metadata": {},
   "outputs": [],
   "source": [
    "def get_channel_data(youtube, channel_ids):\n",
    "    \"\"\"\n",
    "    Retrieve subscriber, video, and view counts for the given channel IDs.\n",
    "    Includes the channel ID in the returned data.\n",
    "    \"\"\"\n",
    "    channel_data = []\n",
    "    try:\n",
    "        request = youtube.channels().list(\n",
    "            part='snippet,statistics',\n",
    "            id=','.join(channel_ids)\n",
    "        )\n",
    "        response = request.execute()\n",
    "        for item in response.get('items', []):\n",
    "            channel = {\n",
    "                'name': item['snippet']['title'],\n",
    "                'id': item['id'],\n",
    "                'subscribers': int(item['statistics'].get('subscriberCount', 0)),\n",
    "                'videos': int(item['statistics'].get('videoCount', 0)),\n",
    "                'views': int(item['statistics'].get('viewCount', 0)),\n",
    "            }\n",
    "            channel_data.append(channel)\n",
    "    except HttpError as e:\n",
    "        print(f\"Error retrieving channel data: {e}\")\n",
    "    return channel_data"
   ]
  },
  {
   "cell_type": "code",
   "execution_count": null,
   "metadata": {},
   "outputs": [],
   "source": [
    "def get_top_videos(youtube, channel_data, top_n=5):\n",
    "    \"\"\"\n",
    "    Retrieve top N videos sorted by view count for each channel.\n",
    "    Utilizes the 'search.list' endpoint to fetch top videos and 'videos.list' to get statistics.\n",
    "    \"\"\"\n",
    "    top_videos_data = []\n",
    "    for channel in channel_data:\n",
    "        channel_id = channel['id']\n",
    "        channel_name = channel['name']\n",
    "        try:\n",
    "            # Use search.list to get top video IDs sorted by view count\n",
    "            search_request = youtube.search().list(\n",
    "                part='id',\n",
    "                channelId=channel_id,\n",
    "                maxResults=top_n,\n",
    "                order='viewCount',\n",
    "                type='video'\n",
    "            )\n",
    "            search_response = search_request.execute()\n",
    "            video_ids = [item['id']['videoId'] for item in search_response.get('items', [])]\n",
    "            \n",
    "            if not video_ids:\n",
    "                print(f\"No videos found for channel '{channel_name}'.\")\n",
    "                continue\n",
    "            \n",
    "            # Use videos.list to get statistics for these video IDs\n",
    "            videos_request = youtube.videos().list(\n",
    "                part='snippet,statistics',\n",
    "                id=','.join(video_ids),\n",
    "                maxResults=top_n\n",
    "            )\n",
    "            videos_response = videos_request.execute()\n",
    "            \n",
    "            for item in videos_response.get('items', []):\n",
    "                video = {\n",
    "                    'Channel Name': channel_name,\n",
    "                    'Video Title': item['snippet']['title'],\n",
    "                    'Views': int(item['statistics'].get('viewCount', 0)),\n",
    "                    'Likes': int(item['statistics'].get('likeCount', 0)),\n",
    "                    'Comments': int(item['statistics'].get('commentCount', 0))\n",
    "                }\n",
    "                top_videos_data.append(video)\n",
    "                \n",
    "        except HttpError as e:\n",
    "            print(f\"Error retrieving top videos for channel '{channel_name}': {e}\")\n",
    "    \n",
    "    return top_videos_data"
   ]
  },
  {
   "cell_type": "code",
   "execution_count": null,
   "metadata": {},
   "outputs": [],
   "source": [
    "# Load the YouTube API key from the .env file\n",
    "load_dotenv()\n",
    "API_KEY = os.getenv('YOUTUBE_API_KEY')\n",
    "if not API_KEY:\n",
    "    raise ValueError(\"Please set the YOUTUBE_API_KEY in your .env file\")\n",
    "youtube = build('youtube', 'v3', developerKey=API_KEY)"
   ]
  },
  {
   "cell_type": "code",
   "execution_count": null,
   "metadata": {},
   "outputs": [],
   "source": [
    "channel_names = []\n",
    "while True:\n",
    "    # Prompt the user to enter a channel name\n",
    "    channel_name = input(\"Enter a YouTube channel name (or '0' to finish): \")\n",
    "    \n",
    "    # If the user enters '0', stop asking for channel names\n",
    "    if channel_name == '0':\n",
    "        break\n",
    "    channel_names.append(channel_name)\n",
    "\n",
    "if not channel_names:\n",
    "    raise ValueError(\"No channel names provided.\")"
   ]
  },
  {
   "cell_type": "code",
   "execution_count": null,
   "metadata": {},
   "outputs": [],
   "source": [
    "# Retrieve channel IDs\n",
    "channel_ids = get_channel_ids(youtube, channel_names)\n",
    "if not channel_ids:\n",
    "    print(\"No valid channel IDs retrieved. Exiting.\")\n",
    "    exit()"
   ]
  },
  {
   "cell_type": "code",
   "execution_count": null,
   "metadata": {},
   "outputs": [],
   "source": [
    "# Retrieve channel data\n",
    "channel_data = get_channel_data(youtube, channel_ids)\n",
    "if not channel_data:\n",
    "    print(\"No channel data available. Exiting.\")\n",
    "    exit()"
   ]
  },
  {
   "cell_type": "code",
   "execution_count": null,
   "metadata": {},
   "outputs": [],
   "source": [
    "# Display channel data\n",
    "channel_df = pd.DataFrame(channel_data)\n",
    "print(\"\\nChannel Data:\")\n",
    "print(channel_df[['name', 'subscribers', 'videos', 'views']].to_string(index=False))"
   ]
  },
  {
   "cell_type": "code",
   "execution_count": null,
   "metadata": {},
   "outputs": [],
   "source": [
    "# Retrieve top videos for each channel\n",
    "top_videos_data = get_top_videos(youtube, channel_data, top_n=5)\n",
    "\n",
    "# Check if any video data was retrieved\n",
    "if top_videos_data:\n",
    "    top_videos_df = pd.DataFrame(top_videos_data)\n",
    "    # Optionally, sort the DataFrame by Channel Name and Views\n",
    "    top_videos_df = top_videos_df.sort_values(['Channel Name', 'Views'], ascending=[True, False])\n",
    "    print(\"\\nTop 5 Videos for Each Channel:\")\n",
    "    print(top_videos_df.to_string(index=False))\n",
    "else:\n",
    "    print(\"\\nNo video data available.\")"
   ]
  }
 ],
 "metadata": {
  "kernelspec": {
   "display_name": "Python 3",
   "language": "python",
   "name": "python3"
  },
  "language_info": {
   "codemirror_mode": {
    "name": "ipython",
    "version": 3
   },
   "file_extension": ".py",
   "mimetype": "text/x-python",
   "name": "python",
   "nbconvert_exporter": "python",
   "pygments_lexer": "ipython3",
   "version": "3.12.6"
  }
 },
 "nbformat": 4,
 "nbformat_minor": 2
}
